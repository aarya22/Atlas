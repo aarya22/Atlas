{
 "cells": [
  {
   "cell_type": "code",
   "execution_count": 60,
   "metadata": {},
   "outputs": [],
   "source": [
    "import os\n",
    "import os.path as op\n",
    "from glob import glob\n",
    "import numpy as np\n",
    "import matplotlib.pyplot as plt\n",
    "from sklearn.cross_validation import train_test_split\n",
    "%matplotlib inline"
   ]
  },
  {
   "cell_type": "code",
   "execution_count": 29,
   "metadata": {},
   "outputs": [
    {
     "data": {
      "text/plain": [
       "'AC_L'"
      ]
     },
     "execution_count": 29,
     "metadata": {},
     "output_type": "execute_result"
    }
   ],
   "source": [
    "def get_label(path):\n",
    "    x = path.split('.')[0].split('-')[0]\n",
    "    return x\n",
    "get_label('AC_L-0.npy')"
   ]
  },
  {
   "cell_type": "code",
   "execution_count": 72,
   "metadata": {},
   "outputs": [
    {
     "data": {
      "text/plain": [
       "2117"
      ]
     },
     "execution_count": 72,
     "metadata": {},
     "output_type": "execute_result"
    }
   ],
   "source": [
    "SL_PATH = \"/Users/aarya/Atlas/tracks/commisural/slines\"\n",
    "labels = [get_label(f) for f in os.listdir(SL_PATH) if not f.startswith('.')]\n",
    "len(labels)"
   ]
  },
  {
   "cell_type": "code",
   "execution_count": 33,
   "metadata": {},
   "outputs": [
    {
     "data": {
      "text/plain": [
       "(256, 556)"
      ]
     },
     "execution_count": 33,
     "metadata": {},
     "output_type": "execute_result"
    },
    {
     "data": {
      "image/png": "[encoded data removed]",
      "text/plain": [
       "<matplotlib.figure.Figure at 0x10622f190>"
      ]
     },
     "metadata": {},
     "output_type": "display_data"
    }
   ],
   "source": [
    "paths = [os.path.join(SL_PATH, f) for f in os.listdir(SL_PATH) if not f.startswith('.')]\n",
    "foo = np.load(paths[0])\n",
    "plt.matshow(foo)\n",
    "foo.shape"
   ]
  },
  {
   "cell_type": "code",
   "execution_count": 58,
   "metadata": {},
   "outputs": [
    {
     "data": {
      "text/plain": [
       "(256, 556)"
      ]
     },
     "execution_count": 58,
     "metadata": {},
     "output_type": "execute_result"
    },
    {
     "data": {
      "image/png": "[encoded data removed]",
      "text/plain": [
       "<matplotlib.figure.Figure at 0x1061a2cd0>"
      ]
     },
     "metadata": {},
     "output_type": "display_data"
    }
   ],
   "source": [
    "baz = np.load(paths[22])\n",
    "plt.matshow(baz)\n",
    "baz.shape"
   ]
  },
  {
   "cell_type": "code",
   "execution_count": 54,
   "metadata": {},
   "outputs": [],
   "source": [
    "shape = (len(labels), foo.shape[0], foo.shape[1])\n",
    "commisural_slines = np.zeros(shape)"
   ]
  },
  {
   "cell_type": "code",
   "execution_count": 55,
   "metadata": {
    "collapsed": true
   },
   "outputs": [],
   "source": [
    "idx = 0\n",
    "for path in paths:\n",
    "    foo = np.load(path)\n",
    "    commisural_slines[idx] = foo\n",
    "    idx += 1"
   ]
  },
  {
   "cell_type": "code",
   "execution_count": 56,
   "metadata": {},
   "outputs": [
    {
     "data": {
      "text/plain": [
       "<matplotlib.image.AxesImage at 0x106c6b8d0>"
      ]
     },
     "execution_count": 56,
     "metadata": {},
     "output_type": "execute_result"
    },
    {
     "data": {
      "image/png": "[encoded data removed]",
      "text/plain": [
       "<matplotlib.figure.Figure at 0x106cfb390>"
      ]
     },
     "metadata": {},
     "output_type": "display_data"
    }
   ],
   "source": [
    "plt.matshow(commisural_slines[0])"
   ]
  },
  {
   "cell_type": "code",
   "execution_count": 59,
   "metadata": {},
   "outputs": [
    {
     "data": {
      "text/plain": [
       "<matplotlib.image.AxesImage at 0x107b36290>"
      ]
     },
     "execution_count": 59,
     "metadata": {},
     "output_type": "execute_result"
    },
    {
     "data": {
      "image/png": "[encoded data removed]",
      "text/plain": [
       "<matplotlib.figure.Figure at 0x10622f350>"
      ]
     },
     "metadata": {},
     "output_type": "display_data"
    }
   ],
   "source": [
    "plt.matshow(commisural_slines[22])"
   ]
  },
  {
   "cell_type": "code",
   "execution_count": 66,
   "metadata": {},
   "outputs": [],
   "source": [
    "X_train, X_test, y_train, y_test = train_test_split(commisural_slines, labels, test_size = 0.15)\n",
    "X_train, X_valid, y_train, y_valid = train_test_split(X_train, y_train, test_size = 0.1767)"
   ]
  },
  {
   "cell_type": "code",
   "execution_count": 67,
   "metadata": {},
   "outputs": [
    {
     "data": {
      "text/plain": [
       "(1481, 256, 556)"
      ]
     },
     "execution_count": 67,
     "metadata": {},
     "output_type": "execute_result"
    }
   ],
   "source": [
    "X_train.shape"
   ]
  },
  {
   "cell_type": "code",
   "execution_count": 68,
   "metadata": {},
   "outputs": [
    {
     "data": {
      "text/plain": [
       "(318, 256, 556)"
      ]
     },
     "execution_count": 68,
     "metadata": {},
     "output_type": "execute_result"
    }
   ],
   "source": [
    "X_valid.shape"
   ]
  },
  {
   "cell_type": "code",
   "execution_count": 69,
   "metadata": {},
   "outputs": [
    {
     "data": {
      "text/plain": [
       "(318, 256, 556)"
      ]
     },
     "execution_count": 69,
     "metadata": {},
     "output_type": "execute_result"
    }
   ],
   "source": [
    "X_test.shape"
   ]
  },
  {
   "cell_type": "code",
   "execution_count": 75,
   "metadata": {},
   "outputs": [
    {
     "name": "stderr",
     "output_type": "stream",
     "text": [
      "Using TensorFlow backend.\n"
     ]
    }
   ],
   "source": [
    "import keras.models as km\n",
    "from keras.layers import (Convolution2D, MaxPooling2D, Convolution3D,\n",
    "                          MaxPooling3D, Flatten, Dense, Input, UpSampling2D,\n",
    "                          UpSampling3D)\n",
    "from keras.layers.merge import Concatenate\n",
    "\n",
    "\n",
    "def vgg16(img_x, img_y, n_classes, img_z=None, n_channels=1,\n",
    "          pool_dim=2, kernel_dim=3, stride=2):\n",
    "    \"\"\"\n",
    "    The VGG16 architecture described in [1]_.\n",
    "    Parameters\n",
    "    ----------\n",
    "    img_x, img_y : int\n",
    "        Number of rows and columns in each image to be fed in as inputs.\n",
    "    n_classes : int\n",
    "        How many classes do we want to distinguish.\n",
    "    img_z : int, optional\n",
    "        Number of images in a stack, for 3D images. Default: 2D images\n",
    "    n_channels: int, optional.\n",
    "        Number of channels in the images. Default: 1.\n",
    "    Returns\n",
    "    -------\n",
    "    model : an uncompiled :class:`km.Model` class instance.\n",
    "    \"\"\"\n",
    "    if img_z is None:\n",
    "        inputs = Input(shape=(img_x, img_y, n_channels))\n",
    "        kernel_dims = (kernel_dim, kernel_dim)\n",
    "        pool_dims = (pool_dim, pool_dim)\n",
    "        strides = (stride, stride)\n",
    "        conv = Convolution2D\n",
    "        max_pool = MaxPooling2D\n",
    "    else:\n",
    "        inputs = Input(shape=(img_x, img_y, img_z, n_channels))\n",
    "        kernel_dims = (kernel_dim, kernel_dim, kernel_dim)\n",
    "        pool_dims = (pool_dim, pool_dim, pool_dim)\n",
    "        strides = (stride, stride, stride)\n",
    "        conv = Convolution3D\n",
    "        max_pool = MaxPooling3D\n",
    "\n",
    "    # Block 1\n",
    "    conv1_1 = conv(64, kernel_dims, activation='relu', padding='same',\n",
    "                   name='block1_conv1')(inputs)\n",
    "    conv1_2 = conv(64, kernel_dims, activation='relu', padding='same',\n",
    "                   name='block1_conv2')(conv1_1)\n",
    "    maxpool1 = max_pool(pool_dims, strides=strides,\n",
    "                        name='block1_pool')(conv1_2)\n",
    "\n",
    "    # Block 2\n",
    "    conv2_1 = conv(128, kernel_dims, activation='relu', padding='same',\n",
    "                   name='block2_conv1')(maxpool1)\n",
    "    conv2_2 = conv(128, kernel_dims, activation='relu', padding='same',\n",
    "                   name='block2_conv2')(conv2_1)\n",
    "    maxpool2 = max_pool(pool_dims, strides=strides,\n",
    "                        name='block2_pool')(conv2_2)\n",
    "\n",
    "    # Block 3\n",
    "    conv3_1 = conv(256, kernel_dims, activation='relu', padding='same',\n",
    "                   name='block3_conv1')(maxpool2)\n",
    "    conv3_2 = conv(256, kernel_dims, activation='relu', padding='same',\n",
    "                   name='block3_conv2')(conv3_1)\n",
    "    conv3_3 = conv(256, kernel_dims, activation='relu', padding='same',\n",
    "                   name='block3_conv3')(conv3_2)\n",
    "    maxpool3 = max_pool(pool_dims, strides=strides,\n",
    "                        name='block3_pool')(conv3_3)\n",
    "\n",
    "    # Block 4\n",
    "    conv4_1 = conv(512, kernel_dims, activation='relu', padding='same',\n",
    "                   name='block4_conv1')(maxpool3)\n",
    "    conv4_2 = conv(512, kernel_dims, activation='relu', padding='same',\n",
    "                   name='block4_conv2')(conv4_1)\n",
    "    conv4_3 = conv(512, kernel_dims, activation='relu', padding='same',\n",
    "                   name='block4_conv3')(conv4_2)\n",
    "    maxpool4 = max_pool(pool_dims, strides=strides,\n",
    "                        name='block4_pool')(conv4_3)\n",
    "\n",
    "    # Block 5\n",
    "    conv5_1 = conv(512, kernel_dims, activation='relu', padding='same',\n",
    "                   name='block5_conv1')(maxpool4)\n",
    "    conv5_2 = conv(512, kernel_dims, activation='relu', padding='same',\n",
    "                   name='block5_conv2')(conv5_1)\n",
    "    conv5_3 = conv(512, kernel_dims, activation='relu', padding='same',\n",
    "                   name='block5_conv3')(conv5_2)\n",
    "    maxpool5 = max_pool(pool_dims, strides=strides,\n",
    "                        name='block5_pool')(conv5_3)\n",
    "\n",
    "    # Classification block\n",
    "    flatten = Flatten(name='flatten')(maxpool5)\n",
    "    fc1 = Dense(4096, activation='relu', name='fc1')(flatten)\n",
    "    fc2 = Dense(4096, activation='relu', name='fc2')(fc1)\n",
    "    outputs = Dense(n_classes, activation='softmax', name='predictions')(fc2)\n",
    "    return km.Model(input=inputs, outputs=outputs)"
   ]
  },
  {
   "cell_type": "code",
   "execution_count": 76,
   "metadata": {},
   "outputs": [
    {
     "name": "stderr",
     "output_type": "stream",
     "text": [
      "/Users/aarya/anaconda/lib/python2.7/site-packages/ipykernel/__main__.py:92: UserWarning: Update your `Model` call to the Keras 2 API: `Model(outputs=Tensor(\"pr..., inputs=Tensor(\"in...)`\n"
     ]
    }
   ],
   "source": [
    "model = vgg16(img_x = foo.shape[0], img_y = foo.shape[1], n_classes=3)"
   ]
  },
  {
   "cell_type": "code",
   "execution_count": null,
   "metadata": {
    "collapsed": true
   },
   "outputs": [],
   "source": []
  }
 ],
 "metadata": {
  "anaconda-cloud": {},
  "kernelspec": {
   "display_name": "Python [conda root]",
   "language": "python",
   "name": "conda-root-py"
  },
  "language_info": {
   "codemirror_mode": {
    "name": "ipython",
    "version": 2
   },
   "file_extension": ".py",
   "mimetype": "text/x-python",
   "name": "python",
   "nbconvert_exporter": "python",
   "pygments_lexer": "ipython2",
   "version": "2.7.13"
  }
 },
 "nbformat": 4,
 "nbformat_minor": 2
}
