{
 "cells": [
  {
   "cell_type": "code",
   "execution_count": 2,
   "metadata": {},
   "outputs": [
    {
     "ename": "SyntaxError",
     "evalue": "invalid syntax (<ipython-input-2-b640c8eece85>, line 1)",
     "traceback": [
      "\u001b[0;36m  File \u001b[0;32m\"<ipython-input-2-b640c8eece85>\"\u001b[0;36m, line \u001b[0;32m1\u001b[0m\n\u001b[0;31m    conda install nb_conda\u001b[0m\n\u001b[0m                ^\u001b[0m\n\u001b[0;31mSyntaxError\u001b[0m\u001b[0;31m:\u001b[0m invalid syntax\n"
     ],
     "output_type": "error"
    }
   ],
   "source": [
    "conda install nb_conda"
   ]
  },
  {
   "cell_type": "code",
   "execution_count": 1,
   "metadata": {},
   "outputs": [],
   "source": [
    "import dipy.data as dpd\n",
    "import dipy.tracking.utils as dtu"
   ]
  },
  {
   "cell_type": "code",
   "execution_count": 4,
   "metadata": {},
   "outputs": [
    {
     "name": "stdout",
     "output_type": "stream",
     "text": [
      "Data size is approximately 234MB\n",
      "Downloading \"bundles_2_subjects.tar.gz\" to /Users/aarya/.dipy/exp_bundles_and_maps\n"
     ]
    },
    {
     "ename": "HTTPError",
     "evalue": "HTTP Error 404: Not Found",
     "traceback": [
      "\u001b[0;31m\u001b[0m",
      "\u001b[0;31mHTTPError\u001b[0mTraceback (most recent call last)",
      "\u001b[0;32m<ipython-input-4-a9d63974b3be>\u001b[0m in \u001b[0;36m<module>\u001b[0;34m()\u001b[0m\n\u001b[0;32m----> 1\u001b[0;31m \u001b[0mdpd\u001b[0m\u001b[0;34m.\u001b[0m\u001b[0mfetch_bundles_2_subjects\u001b[0m\u001b[0;34m(\u001b[0m\u001b[0;34m)\u001b[0m\u001b[0;34m\u001b[0m\u001b[0m\n\u001b[0m",
      "\u001b[0;32m/Users/aarya/anaconda/lib/python2.7/site-packages/dipy/data/fetcher.pyc\u001b[0m in \u001b[0;36mfetcher\u001b[0;34m()\u001b[0m\n\u001b[1;32m    174\u001b[0m         \u001b[0mfullpath\u001b[0m \u001b[0;34m=\u001b[0m \u001b[0mpjoin\u001b[0m\u001b[0;34m(\u001b[0m\u001b[0mfolder\u001b[0m\u001b[0;34m,\u001b[0m \u001b[0mf\u001b[0m\u001b[0;34m)\u001b[0m\u001b[0;34m\u001b[0m\u001b[0m\n\u001b[1;32m    175\u001b[0m         \u001b[0;32mif\u001b[0m \u001b[0mos\u001b[0m\u001b[0;34m.\u001b[0m\u001b[0mpath\u001b[0m\u001b[0;34m.\u001b[0m\u001b[0mexists\u001b[0m\u001b[0;34m(\u001b[0m\u001b[0mfullpath\u001b[0m\u001b[0;34m)\u001b[0m \u001b[0;32mand\u001b[0m \u001b[0;34m(\u001b[0m\u001b[0m_get_file_md5\u001b[0m\u001b[0;34m(\u001b[0m\u001b[0mfullpath\u001b[0m\u001b[0;34m)\u001b[0m \u001b[0;34m==\u001b[0m \u001b[0mmd5\u001b[0m\u001b[0;34m)\u001b[0m\u001b[0;34m:\u001b[0m\u001b[0;34m\u001b[0m\u001b[0m\n\u001b[0;32m--> 176\u001b[0;31m             \u001b[0;32mcontinue\u001b[0m\u001b[0;34m\u001b[0m\u001b[0m\n\u001b[0m\u001b[1;32m    177\u001b[0m         \u001b[0mall_skip\u001b[0m \u001b[0;34m=\u001b[0m \u001b[0mFalse\u001b[0m\u001b[0;34m\u001b[0m\u001b[0m\n\u001b[1;32m    178\u001b[0m         \u001b[0m_log\u001b[0m\u001b[0;34m(\u001b[0m\u001b[0;34m'Downloading \"%s\" to %s'\u001b[0m \u001b[0;34m%\u001b[0m \u001b[0;34m(\u001b[0m\u001b[0mf\u001b[0m\u001b[0;34m,\u001b[0m \u001b[0mfolder\u001b[0m\u001b[0;34m)\u001b[0m\u001b[0;34m)\u001b[0m\u001b[0;34m\u001b[0m\u001b[0m\n",
      "\u001b[0;32m/Users/aarya/anaconda/lib/python2.7/site-packages/dipy/data/fetcher.pyc\u001b[0m in \u001b[0;36mfetch_data\u001b[0;34m(files, folder, data_size)\u001b[0m\n\u001b[1;32m    123\u001b[0m \u001b[0;34m\u001b[0m\u001b[0m\n\u001b[1;32m    124\u001b[0m \u001b[0;32mdef\u001b[0m \u001b[0m_get_file_data\u001b[0m\u001b[0;34m(\u001b[0m\u001b[0mfname\u001b[0m\u001b[0;34m,\u001b[0m \u001b[0murl\u001b[0m\u001b[0;34m)\u001b[0m\u001b[0;34m:\u001b[0m\u001b[0;34m\u001b[0m\u001b[0m\n\u001b[0;32m--> 125\u001b[0;31m     \u001b[0;32mwith\u001b[0m \u001b[0mcontextlib\u001b[0m\u001b[0;34m.\u001b[0m\u001b[0mclosing\u001b[0m\u001b[0;34m(\u001b[0m\u001b[0murlopen\u001b[0m\u001b[0;34m(\u001b[0m\u001b[0murl\u001b[0m\u001b[0;34m)\u001b[0m\u001b[0;34m)\u001b[0m \u001b[0;32mas\u001b[0m \u001b[0mopener\u001b[0m\u001b[0;34m:\u001b[0m\u001b[0;34m\u001b[0m\u001b[0m\n\u001b[0m\u001b[1;32m    126\u001b[0m         \u001b[0;32mif\u001b[0m \u001b[0msys\u001b[0m\u001b[0;34m.\u001b[0m\u001b[0mversion_info\u001b[0m\u001b[0;34m[\u001b[0m\u001b[0;36m0\u001b[0m\u001b[0;34m]\u001b[0m \u001b[0;34m<\u001b[0m \u001b[0;36m3\u001b[0m\u001b[0;34m:\u001b[0m\u001b[0;34m\u001b[0m\u001b[0m\n\u001b[1;32m    127\u001b[0m             \u001b[0;32mtry\u001b[0m\u001b[0;34m:\u001b[0m\u001b[0;34m\u001b[0m\u001b[0m\n",
      "\u001b[0;32m/Users/aarya/anaconda/lib/python2.7/site-packages/dipy/data/fetcher.pyc\u001b[0m in \u001b[0;36m_get_file_data\u001b[0;34m(fname, url)\u001b[0m\n\u001b[1;32m     81\u001b[0m \u001b[0;32mdef\u001b[0m \u001b[0m_already_there_msg\u001b[0m\u001b[0;34m(\u001b[0m\u001b[0mfolder\u001b[0m\u001b[0;34m)\u001b[0m\u001b[0;34m:\u001b[0m\u001b[0;34m\u001b[0m\u001b[0m\n\u001b[1;32m     82\u001b[0m     \"\"\"\n\u001b[0;32m---> 83\u001b[0;31m     \u001b[0mPrints\u001b[0m \u001b[0ma\u001b[0m \u001b[0mmessage\u001b[0m \u001b[0mindicating\u001b[0m \u001b[0mthat\u001b[0m \u001b[0ma\u001b[0m \u001b[0mcertain\u001b[0m \u001b[0mdata\u001b[0m\u001b[0;34m-\u001b[0m\u001b[0mset\u001b[0m \u001b[0;32mis\u001b[0m \u001b[0malready\u001b[0m \u001b[0;32min\u001b[0m \u001b[0mplace\u001b[0m\u001b[0;34m\u001b[0m\u001b[0m\n\u001b[0m\u001b[1;32m     84\u001b[0m     \"\"\"\n\u001b[1;32m     85\u001b[0m     \u001b[0mmsg\u001b[0m \u001b[0;34m=\u001b[0m \u001b[0;34m'Dataset is already in place. If you want to fetch it again '\u001b[0m\u001b[0;34m\u001b[0m\u001b[0m\n",
      "\u001b[0;32m/Users/aarya/anaconda/lib/python2.7/urllib2.pyc\u001b[0m in \u001b[0;36murlopen\u001b[0;34m(url, data, timeout, cafile, capath, cadefault, context)\u001b[0m\n\u001b[1;32m    152\u001b[0m     \u001b[0;32melse\u001b[0m\u001b[0;34m:\u001b[0m\u001b[0;34m\u001b[0m\u001b[0m\n\u001b[1;32m    153\u001b[0m         \u001b[0mopener\u001b[0m \u001b[0;34m=\u001b[0m \u001b[0m_opener\u001b[0m\u001b[0;34m\u001b[0m\u001b[0m\n\u001b[0;32m--> 154\u001b[0;31m     \u001b[0;32mreturn\u001b[0m \u001b[0mopener\u001b[0m\u001b[0;34m.\u001b[0m\u001b[0mopen\u001b[0m\u001b[0;34m(\u001b[0m\u001b[0murl\u001b[0m\u001b[0;34m,\u001b[0m \u001b[0mdata\u001b[0m\u001b[0;34m,\u001b[0m \u001b[0mtimeout\u001b[0m\u001b[0;34m)\u001b[0m\u001b[0;34m\u001b[0m\u001b[0m\n\u001b[0m\u001b[1;32m    155\u001b[0m \u001b[0;34m\u001b[0m\u001b[0m\n\u001b[1;32m    156\u001b[0m \u001b[0;32mdef\u001b[0m \u001b[0minstall_opener\u001b[0m\u001b[0;34m(\u001b[0m\u001b[0mopener\u001b[0m\u001b[0;34m)\u001b[0m\u001b[0;34m:\u001b[0m\u001b[0;34m\u001b[0m\u001b[0m\n",
      "\u001b[0;32m/Users/aarya/anaconda/lib/python2.7/urllib2.pyc\u001b[0m in \u001b[0;36mopen\u001b[0;34m(self, fullurl, data, timeout)\u001b[0m\n\u001b[1;32m    433\u001b[0m         \u001b[0;32mfor\u001b[0m \u001b[0mprocessor\u001b[0m \u001b[0;32min\u001b[0m \u001b[0mself\u001b[0m\u001b[0;34m.\u001b[0m\u001b[0mprocess_response\u001b[0m\u001b[0;34m.\u001b[0m\u001b[0mget\u001b[0m\u001b[0;34m(\u001b[0m\u001b[0mprotocol\u001b[0m\u001b[0;34m,\u001b[0m \u001b[0;34m[\u001b[0m\u001b[0;34m]\u001b[0m\u001b[0;34m)\u001b[0m\u001b[0;34m:\u001b[0m\u001b[0;34m\u001b[0m\u001b[0m\n\u001b[1;32m    434\u001b[0m             \u001b[0mmeth\u001b[0m \u001b[0;34m=\u001b[0m \u001b[0mgetattr\u001b[0m\u001b[0;34m(\u001b[0m\u001b[0mprocessor\u001b[0m\u001b[0;34m,\u001b[0m \u001b[0mmeth_name\u001b[0m\u001b[0;34m)\u001b[0m\u001b[0;34m\u001b[0m\u001b[0m\n\u001b[0;32m--> 435\u001b[0;31m             \u001b[0mresponse\u001b[0m \u001b[0;34m=\u001b[0m \u001b[0mmeth\u001b[0m\u001b[0;34m(\u001b[0m\u001b[0mreq\u001b[0m\u001b[0;34m,\u001b[0m \u001b[0mresponse\u001b[0m\u001b[0;34m)\u001b[0m\u001b[0;34m\u001b[0m\u001b[0m\n\u001b[0m\u001b[1;32m    436\u001b[0m \u001b[0;34m\u001b[0m\u001b[0m\n\u001b[1;32m    437\u001b[0m         \u001b[0;32mreturn\u001b[0m \u001b[0mresponse\u001b[0m\u001b[0;34m\u001b[0m\u001b[0m\n",
      "\u001b[0;32m/Users/aarya/anaconda/lib/python2.7/urllib2.pyc\u001b[0m in \u001b[0;36mhttp_response\u001b[0;34m(self, request, response)\u001b[0m\n\u001b[1;32m    546\u001b[0m         \u001b[0;32mif\u001b[0m \u001b[0;32mnot\u001b[0m \u001b[0;34m(\u001b[0m\u001b[0;36m200\u001b[0m \u001b[0;34m<=\u001b[0m \u001b[0mcode\u001b[0m \u001b[0;34m<\u001b[0m \u001b[0;36m300\u001b[0m\u001b[0;34m)\u001b[0m\u001b[0;34m:\u001b[0m\u001b[0;34m\u001b[0m\u001b[0m\n\u001b[1;32m    547\u001b[0m             response = self.parent.error(\n\u001b[0;32m--> 548\u001b[0;31m                 'http', request, response, code, msg, hdrs)\n\u001b[0m\u001b[1;32m    549\u001b[0m \u001b[0;34m\u001b[0m\u001b[0m\n\u001b[1;32m    550\u001b[0m         \u001b[0;32mreturn\u001b[0m \u001b[0mresponse\u001b[0m\u001b[0;34m\u001b[0m\u001b[0m\n",
      "\u001b[0;32m/Users/aarya/anaconda/lib/python2.7/urllib2.pyc\u001b[0m in \u001b[0;36merror\u001b[0;34m(self, proto, *args)\u001b[0m\n\u001b[1;32m    471\u001b[0m         \u001b[0;32mif\u001b[0m \u001b[0mhttp_err\u001b[0m\u001b[0;34m:\u001b[0m\u001b[0;34m\u001b[0m\u001b[0m\n\u001b[1;32m    472\u001b[0m             \u001b[0margs\u001b[0m \u001b[0;34m=\u001b[0m \u001b[0;34m(\u001b[0m\u001b[0mdict\u001b[0m\u001b[0;34m,\u001b[0m \u001b[0;34m'default'\u001b[0m\u001b[0;34m,\u001b[0m \u001b[0;34m'http_error_default'\u001b[0m\u001b[0;34m)\u001b[0m \u001b[0;34m+\u001b[0m \u001b[0morig_args\u001b[0m\u001b[0;34m\u001b[0m\u001b[0m\n\u001b[0;32m--> 473\u001b[0;31m             \u001b[0;32mreturn\u001b[0m \u001b[0mself\u001b[0m\u001b[0;34m.\u001b[0m\u001b[0m_call_chain\u001b[0m\u001b[0;34m(\u001b[0m\u001b[0;34m*\u001b[0m\u001b[0margs\u001b[0m\u001b[0;34m)\u001b[0m\u001b[0;34m\u001b[0m\u001b[0m\n\u001b[0m\u001b[1;32m    474\u001b[0m \u001b[0;34m\u001b[0m\u001b[0m\n\u001b[1;32m    475\u001b[0m \u001b[0;31m# XXX probably also want an abstract factory that knows when it makes\u001b[0m\u001b[0;34m\u001b[0m\u001b[0;34m\u001b[0m\u001b[0m\n",
      "\u001b[0;32m/Users/aarya/anaconda/lib/python2.7/urllib2.pyc\u001b[0m in \u001b[0;36m_call_chain\u001b[0;34m(self, chain, kind, meth_name, *args)\u001b[0m\n\u001b[1;32m    405\u001b[0m             \u001b[0mfunc\u001b[0m \u001b[0;34m=\u001b[0m \u001b[0mgetattr\u001b[0m\u001b[0;34m(\u001b[0m\u001b[0mhandler\u001b[0m\u001b[0;34m,\u001b[0m \u001b[0mmeth_name\u001b[0m\u001b[0;34m)\u001b[0m\u001b[0;34m\u001b[0m\u001b[0m\n\u001b[1;32m    406\u001b[0m \u001b[0;34m\u001b[0m\u001b[0m\n\u001b[0;32m--> 407\u001b[0;31m             \u001b[0mresult\u001b[0m \u001b[0;34m=\u001b[0m \u001b[0mfunc\u001b[0m\u001b[0;34m(\u001b[0m\u001b[0;34m*\u001b[0m\u001b[0margs\u001b[0m\u001b[0;34m)\u001b[0m\u001b[0;34m\u001b[0m\u001b[0m\n\u001b[0m\u001b[1;32m    408\u001b[0m             \u001b[0;32mif\u001b[0m \u001b[0mresult\u001b[0m \u001b[0;32mis\u001b[0m \u001b[0;32mnot\u001b[0m \u001b[0mNone\u001b[0m\u001b[0;34m:\u001b[0m\u001b[0;34m\u001b[0m\u001b[0m\n\u001b[1;32m    409\u001b[0m                 \u001b[0;32mreturn\u001b[0m \u001b[0mresult\u001b[0m\u001b[0;34m\u001b[0m\u001b[0m\n",
      "\u001b[0;32m/Users/aarya/anaconda/lib/python2.7/urllib2.pyc\u001b[0m in \u001b[0;36mhttp_error_default\u001b[0;34m(self, req, fp, code, msg, hdrs)\u001b[0m\n\u001b[1;32m    554\u001b[0m \u001b[0;32mclass\u001b[0m \u001b[0mHTTPDefaultErrorHandler\u001b[0m\u001b[0;34m(\u001b[0m\u001b[0mBaseHandler\u001b[0m\u001b[0;34m)\u001b[0m\u001b[0;34m:\u001b[0m\u001b[0;34m\u001b[0m\u001b[0m\n\u001b[1;32m    555\u001b[0m     \u001b[0;32mdef\u001b[0m \u001b[0mhttp_error_default\u001b[0m\u001b[0;34m(\u001b[0m\u001b[0mself\u001b[0m\u001b[0;34m,\u001b[0m \u001b[0mreq\u001b[0m\u001b[0;34m,\u001b[0m \u001b[0mfp\u001b[0m\u001b[0;34m,\u001b[0m \u001b[0mcode\u001b[0m\u001b[0;34m,\u001b[0m \u001b[0mmsg\u001b[0m\u001b[0;34m,\u001b[0m \u001b[0mhdrs\u001b[0m\u001b[0;34m)\u001b[0m\u001b[0;34m:\u001b[0m\u001b[0;34m\u001b[0m\u001b[0m\n\u001b[0;32m--> 556\u001b[0;31m         \u001b[0;32mraise\u001b[0m \u001b[0mHTTPError\u001b[0m\u001b[0;34m(\u001b[0m\u001b[0mreq\u001b[0m\u001b[0;34m.\u001b[0m\u001b[0mget_full_url\u001b[0m\u001b[0;34m(\u001b[0m\u001b[0;34m)\u001b[0m\u001b[0;34m,\u001b[0m \u001b[0mcode\u001b[0m\u001b[0;34m,\u001b[0m \u001b[0mmsg\u001b[0m\u001b[0;34m,\u001b[0m \u001b[0mhdrs\u001b[0m\u001b[0;34m,\u001b[0m \u001b[0mfp\u001b[0m\u001b[0;34m)\u001b[0m\u001b[0;34m\u001b[0m\u001b[0m\n\u001b[0m\u001b[1;32m    557\u001b[0m \u001b[0;34m\u001b[0m\u001b[0m\n\u001b[1;32m    558\u001b[0m \u001b[0;32mclass\u001b[0m \u001b[0mHTTPRedirectHandler\u001b[0m\u001b[0;34m(\u001b[0m\u001b[0mBaseHandler\u001b[0m\u001b[0;34m)\u001b[0m\u001b[0;34m:\u001b[0m\u001b[0;34m\u001b[0m\u001b[0m\n",
      "\u001b[0;31mHTTPError\u001b[0m: HTTP Error 404: Not Found"
     ],
     "output_type": "error"
    }
   ],
   "source": [
    "dpd.fetch_bundles_2_subjects()"
   ]
  },
  {
   "cell_type": "code",
   "execution_count": 3,
   "metadata": {},
   "outputs": [
    {
     "ename": "FileNotFoundError",
     "evalue": "No such file: '/Users/aarya/.dipy/exp_bundles_and_maps/bundles_2_subjects/subj_1/fa_1x1x1.nii.gz'",
     "traceback": [
      "\u001b[0;31m\u001b[0m",
      "\u001b[0;31mFileNotFoundError\u001b[0mTraceback (most recent call last)",
      "\u001b[0;32m<ipython-input-3-de93dbe7fa31>\u001b[0m in \u001b[0;36m<module>\u001b[0;34m()\u001b[0m\n\u001b[0;32m----> 1\u001b[0;31m \u001b[0mbd\u001b[0m \u001b[0;34m=\u001b[0m \u001b[0mdpd\u001b[0m\u001b[0;34m.\u001b[0m\u001b[0mread_bundles_2_subjects\u001b[0m\u001b[0;34m(\u001b[0m\u001b[0;34m)\u001b[0m\u001b[0;34m\u001b[0m\u001b[0m\n\u001b[0m",
      "\u001b[0;32m/Users/aarya/anaconda/lib/python2.7/site-packages/dipy/data/fetcher.pyc\u001b[0m in \u001b[0;36mread_bundles_2_subjects\u001b[0;34m(subj_id, metrics, bundles)\u001b[0m\n\u001b[1;32m    775\u001b[0m \u001b[0;34m\u001b[0m\u001b[0m\n\u001b[1;32m    776\u001b[0m     \u001b[0;32mif\u001b[0m \u001b[0;34m'fa'\u001b[0m \u001b[0;32min\u001b[0m \u001b[0mmetrics\u001b[0m\u001b[0;34m:\u001b[0m\u001b[0;34m\u001b[0m\u001b[0m\n\u001b[0;32m--> 777\u001b[0;31m         \u001b[0mimg_fa\u001b[0m \u001b[0;34m=\u001b[0m \u001b[0mnib\u001b[0m\u001b[0;34m.\u001b[0m\u001b[0mload\u001b[0m\u001b[0;34m(\u001b[0m\u001b[0mpjoin\u001b[0m\u001b[0;34m(\u001b[0m\u001b[0mdname\u001b[0m\u001b[0;34m,\u001b[0m \u001b[0msubj_id\u001b[0m\u001b[0;34m,\u001b[0m \u001b[0;34m'fa_1x1x1.nii.gz'\u001b[0m\u001b[0;34m)\u001b[0m\u001b[0;34m)\u001b[0m\u001b[0;34m\u001b[0m\u001b[0m\n\u001b[0m\u001b[1;32m    778\u001b[0m         \u001b[0mfa\u001b[0m \u001b[0;34m=\u001b[0m \u001b[0mimg_fa\u001b[0m\u001b[0;34m.\u001b[0m\u001b[0mget_data\u001b[0m\u001b[0;34m(\u001b[0m\u001b[0;34m)\u001b[0m\u001b[0;34m\u001b[0m\u001b[0m\n\u001b[1;32m    779\u001b[0m         \u001b[0maffine\u001b[0m \u001b[0;34m=\u001b[0m \u001b[0mimg_fa\u001b[0m\u001b[0;34m.\u001b[0m\u001b[0mget_affine\u001b[0m\u001b[0;34m(\u001b[0m\u001b[0;34m)\u001b[0m\u001b[0;34m\u001b[0m\u001b[0m\n",
      "\u001b[0;32m/Users/aarya/nibabel/nibabel/loadsave.pyc\u001b[0m in \u001b[0;36mload\u001b[0;34m(filename, **kwargs)\u001b[0m\n\u001b[1;32m     38\u001b[0m     '''\n\u001b[1;32m     39\u001b[0m     \u001b[0;32mif\u001b[0m \u001b[0;32mnot\u001b[0m \u001b[0mop\u001b[0m\u001b[0;34m.\u001b[0m\u001b[0mexists\u001b[0m\u001b[0;34m(\u001b[0m\u001b[0mfilename\u001b[0m\u001b[0;34m)\u001b[0m\u001b[0;34m:\u001b[0m\u001b[0;34m\u001b[0m\u001b[0m\n\u001b[0;32m---> 40\u001b[0;31m         \u001b[0;32mraise\u001b[0m \u001b[0mFileNotFoundError\u001b[0m\u001b[0;34m(\u001b[0m\u001b[0;34m\"No such file: '%s'\"\u001b[0m \u001b[0;34m%\u001b[0m \u001b[0mfilename\u001b[0m\u001b[0;34m)\u001b[0m\u001b[0;34m\u001b[0m\u001b[0m\n\u001b[0m\u001b[1;32m     41\u001b[0m     \u001b[0msniff\u001b[0m \u001b[0;34m=\u001b[0m \u001b[0mNone\u001b[0m\u001b[0;34m\u001b[0m\u001b[0m\n\u001b[1;32m     42\u001b[0m     \u001b[0;32mfor\u001b[0m \u001b[0mimage_klass\u001b[0m \u001b[0;32min\u001b[0m \u001b[0mall_image_classes\u001b[0m\u001b[0;34m:\u001b[0m\u001b[0;34m\u001b[0m\u001b[0m\n",
      "\u001b[0;31mFileNotFoundError\u001b[0m: No such file: '/Users/aarya/.dipy/exp_bundles_and_maps/bundles_2_subjects/subj_1/fa_1x1x1.nii.gz'"
     ],
     "output_type": "error"
    }
   ],
   "source": [
    "bd = dpd.read_bundles_2_subjects()"
   ]
  },
  {
   "cell_type": "code",
   "execution_count": 4,
   "metadata": {},
   "outputs": [
    {
     "name": "stdout",
     "output_type": "stream",
     "text": [
      "bundles_af.left.trk      bundles_cg.left.trk      bundles_mdlf.right.trk\r\n",
      "bundles_af.right.trk     bundles_cg.right.trk     bundles_slf1.left.trk\r\n",
      "bundles_cc_1.trk         bundles_cst.left.trk     bundles_slf1.right.trk\r\n",
      "bundles_cc_2.trk         bundles_cst.right.trk    bundles_slf2.left.trk\r\n",
      "bundles_cc_3.trk         bundles_ifof.left.trk    bundles_slf2.right.trk\r\n",
      "bundles_cc_4.trk         bundles_ifof.right.trk   bundles_slf_3.left.trk\r\n",
      "bundles_cc_5.trk         bundles_ilf.left.trk     bundles_slf_3.right.trk\r\n",
      "bundles_cc_6.trk         bundles_ilf.right.trk    bundles_uf.left.trk\r\n",
      "bundles_cc_7.trk         bundles_mdlf.left.trk    bundles_uf.right.trk\r\n"
     ]
    }
   ],
   "source": [
    "ls /Users/arokem/.dipy/exp_bundles_and_maps/bundles_2_subjects/subj_1/bundles/"
   ]
  },
  {
   "cell_type": "code",
   "execution_count": 5,
   "metadata": {
    "collapsed": true
   },
   "outputs": [],
   "source": [
    "import matplotlib as mpl\n",
    "from mpl_toolkits.mplot3d import Axes3D\n",
    "import numpy as np\n",
    "import matplotlib.pyplot as plt\n",
    "%matplotlib inline"
   ]
  },
  {
   "cell_type": "code",
   "execution_count": 6,
   "metadata": {
    "collapsed": true
   },
   "outputs": [],
   "source": [
    "DATA_SUB1 = '/Users/arokem/.dipy/exp_bundles_and_maps/bundles_2_subjects/subj_1'"
   ]
  },
  {
   "cell_type": "code",
   "execution_count": 7,
   "metadata": {
    "collapsed": true
   },
   "outputs": [],
   "source": [
    "import os.path as op\n",
    "from glob import glob"
   ]
  },
  {
   "cell_type": "code",
   "execution_count": 8,
   "metadata": {
    "collapsed": true
   },
   "outputs": [],
   "source": [
    "bundle_fnames = glob(op.join(DATA_SUB1, 'bundles/*.trk'))"
   ]
  },
  {
   "cell_type": "code",
   "execution_count": 9,
   "metadata": {
    "collapsed": true
   },
   "outputs": [],
   "source": [
    "import nibabel as nib\n",
    "t1_warped_img = nib.load(op.join(DATA_SUB1, 't1_warped.nii.gz'))"
   ]
  },
  {
   "cell_type": "code",
   "execution_count": 10,
   "metadata": {},
   "outputs": [
    {
     "name": "stdout",
     "output_type": "stream",
     "text": [
      "/Users/arokem/.dipy/exp_bundles_and_maps/bundles_2_subjects/subj_1/bundles/bundles_af.left.trk 721\n",
      "/Users/arokem/.dipy/exp_bundles_and_maps/bundles_2_subjects/subj_1/bundles/bundles_af.right.trk 2093\n",
      "/Users/arokem/.dipy/exp_bundles_and_maps/bundles_2_subjects/subj_1/bundles/bundles_cc_1.trk 478\n",
      "/Users/arokem/.dipy/exp_bundles_and_maps/bundles_2_subjects/subj_1/bundles/bundles_cc_2.trk 953\n",
      "/Users/arokem/.dipy/exp_bundles_and_maps/bundles_2_subjects/subj_1/bundles/bundles_cc_3.trk 15244\n",
      "/Users/arokem/.dipy/exp_bundles_and_maps/bundles_2_subjects/subj_1/bundles/bundles_cc_4.trk 1970\n",
      "/Users/arokem/.dipy/exp_bundles_and_maps/bundles_2_subjects/subj_1/bundles/bundles_cc_5.trk 520\n",
      "/Users/arokem/.dipy/exp_bundles_and_maps/bundles_2_subjects/subj_1/bundles/bundles_cc_6.trk 3620\n",
      "/Users/arokem/.dipy/exp_bundles_and_maps/bundles_2_subjects/subj_1/bundles/bundles_cc_7.trk 703\n",
      "/Users/arokem/.dipy/exp_bundles_and_maps/bundles_2_subjects/subj_1/bundles/bundles_cg.left.trk 3856\n",
      "/Users/arokem/.dipy/exp_bundles_and_maps/bundles_2_subjects/subj_1/bundles/bundles_cg.right.trk 3885\n",
      "/Users/arokem/.dipy/exp_bundles_and_maps/bundles_2_subjects/subj_1/bundles/bundles_cst.left.trk 2101\n",
      "/Users/arokem/.dipy/exp_bundles_and_maps/bundles_2_subjects/subj_1/bundles/bundles_cst.right.trk 2140\n",
      "/Users/arokem/.dipy/exp_bundles_and_maps/bundles_2_subjects/subj_1/bundles/bundles_ifof.left.trk 543\n",
      "/Users/arokem/.dipy/exp_bundles_and_maps/bundles_2_subjects/subj_1/bundles/bundles_ifof.right.trk 1148\n",
      "/Users/arokem/.dipy/exp_bundles_and_maps/bundles_2_subjects/subj_1/bundles/bundles_ilf.left.trk 1219\n",
      "/Users/arokem/.dipy/exp_bundles_and_maps/bundles_2_subjects/subj_1/bundles/bundles_ilf.right.trk 355\n",
      "/Users/arokem/.dipy/exp_bundles_and_maps/bundles_2_subjects/subj_1/bundles/bundles_mdlf.left.trk 343\n",
      "/Users/arokem/.dipy/exp_bundles_and_maps/bundles_2_subjects/subj_1/bundles/bundles_mdlf.right.trk 161\n",
      "/Users/arokem/.dipy/exp_bundles_and_maps/bundles_2_subjects/subj_1/bundles/bundles_slf1.left.trk 509\n",
      "/Users/arokem/.dipy/exp_bundles_and_maps/bundles_2_subjects/subj_1/bundles/bundles_slf1.right.trk 291\n",
      "/Users/arokem/.dipy/exp_bundles_and_maps/bundles_2_subjects/subj_1/bundles/bundles_slf2.left.trk 739\n",
      "/Users/arokem/.dipy/exp_bundles_and_maps/bundles_2_subjects/subj_1/bundles/bundles_slf2.right.trk 1441\n",
      "/Users/arokem/.dipy/exp_bundles_and_maps/bundles_2_subjects/subj_1/bundles/bundles_slf_3.left.trk 256\n",
      "/Users/arokem/.dipy/exp_bundles_and_maps/bundles_2_subjects/subj_1/bundles/bundles_slf_3.right.trk 182\n",
      "/Users/arokem/.dipy/exp_bundles_and_maps/bundles_2_subjects/subj_1/bundles/bundles_uf.left.trk 305\n",
      "/Users/arokem/.dipy/exp_bundles_and_maps/bundles_2_subjects/subj_1/bundles/bundles_uf.right.trk 380\n"
     ]
    }
   ],
   "source": [
    "sl_sum = 0\n",
    "for b_idx, bundle in enumerate(bundle_fnames):\n",
    "    tgram = nib.streamlines.load(op.join(DATA_SUB1, 'bundles', bundle))\n",
    "    print(bundle, len(tgram.streamlines))\n",
    "    sl_sum += len(tgram.streamlines)"
   ]
  },
  {
   "cell_type": "code",
   "execution_count": 11,
   "metadata": {},
   "outputs": [
    {
     "data": {
      "text/plain": [
       "(46156, 256, 256, 150, 1)"
      ]
     },
     "execution_count": 11,
     "metadata": {},
     "output_type": "execute_result"
    }
   ],
   "source": [
    "((sl_sum, ) + t1_warped_img.shape + (1,))"
   ]
  },
  {
   "cell_type": "code",
   "execution_count": 16,
   "metadata": {},
   "outputs": [
    {
     "name": "stdout",
     "output_type": "stream",
     "text": [
      "/Users/arokem/.dipy/exp_bundles_and_maps/bundles_2_subjects/subj_1/bundles/bundles_af.left.trk 721\n",
      "Streamline 0 at index 0\n"
     ]
    },
    {
     "ename": "NameError",
     "evalue": "name 'boom' is not defined",
     "traceback": [
      "\u001b[0;31m---------------------------------------------------------------------------\u001b[0m",
      "\u001b[0;31mNameError\u001b[0m                                 Traceback (most recent call last)",
      "\u001b[0;32m<ipython-input-16-bd20ff77cd13>\u001b[0m in \u001b[0;36m<module>\u001b[0;34m()\u001b[0m\n\u001b[1;32m     11\u001b[0m             \u001b[0mvol\u001b[0m\u001b[0;34m[\u001b[0m\u001b[0msl\u001b[0m\u001b[0;34m[\u001b[0m\u001b[0;36m0\u001b[0m\u001b[0;34m]\u001b[0m\u001b[0;34m,\u001b[0m \u001b[0msl\u001b[0m\u001b[0;34m[\u001b[0m\u001b[0;36m1\u001b[0m\u001b[0;34m]\u001b[0m\u001b[0;34m,\u001b[0m \u001b[0msl\u001b[0m\u001b[0;34m[\u001b[0m\u001b[0;36m2\u001b[0m\u001b[0;34m]\u001b[0m\u001b[0;34m]\u001b[0m \u001b[0;34m=\u001b[0m \u001b[0;36m1\u001b[0m\u001b[0;34m\u001b[0m\u001b[0m\n\u001b[1;32m     12\u001b[0m             \u001b[0mii\u001b[0m \u001b[0;34m+=\u001b[0m \u001b[0;36m1\u001b[0m\u001b[0;34m\u001b[0m\u001b[0m\n\u001b[0;32m---> 13\u001b[0;31m             \u001b[0mboom\u001b[0m\u001b[0;34m\u001b[0m\u001b[0m\n\u001b[0m",
      "\u001b[0;31mNameError\u001b[0m: name 'boom' is not defined"
     ],
     "output_type": "error"
    }
   ],
   "source": [
    "ii = 0\n",
    "for b_idx, bundle in enumerate(bundle_fnames):\n",
    "    tgram = nib.streamlines.load(op.join(DATA_SUB1, 'bundles', bundle))\n",
    "    print(bundle, len(tgram.streamlines))\n",
    "    sl_sum += len(tgram.streamlines)\n",
    "    for sl_idx, sl in enumerate(list(dtu.move_streamlines(tgram.streamlines, np.linalg.inv(tgram.affine)))):\n",
    "            if not np.mod(sl_idx, 100):\n",
    "                print(\"Streamline {0} at index {1}\".format(sl_idx, ii))\n",
    "            vol = np.zeros(t1_warped_img.shape + (1,), dtype=bool)\n",
    "            sl = np.round(sl).astype(int).T\n",
    "            vol[sl[0], sl[1], sl[2]] = 1        \n",
    "            ii += 1"
   ]
  },
  {
   "cell_type": "code",
   "execution_count": 24,
   "metadata": {},
   "outputs": [
    {
     "data": {
      "image/png": "[encoded data removed]",
      "text/plain": [
       "<matplotlib.figure.Figure at 0x105258438>"
      ]
     },
     "metadata": {},
     "output_type": "display_data"
    },
    {
     "data": {
      "image/png": "[encoded data removed]",
      "text/plain": [
       "<matplotlib.figure.Figure at 0x1055d7ba8>"
      ]
     },
     "metadata": {},
     "output_type": "display_data"
    },
    {
     "data": {
      "image/png": "[encoded data removed]",
      "text/plain": [
       "<matplotlib.figure.Figure at 0x180d2fd1d0>"
      ]
     },
     "metadata": {},
     "output_type": "display_data"
    }
   ],
   "source": [
    "for ax in range(3):\n",
    "    foo = np.max(vol, ax).squeeze()\n",
    "    plt.matshow(foo)"
   ]
  },
  {
   "cell_type": "code",
   "execution_count": 22,
   "metadata": {},
   "outputs": [
    {
     "data": {
      "text/plain": [
       "(256, 150)"
      ]
     },
     "execution_count": 22,
     "metadata": {},
     "output_type": "execute_result"
    }
   ],
   "source": [
    "foo.shape"
   ]
  },
  {
   "cell_type": "code",
   "execution_count": 23,
   "metadata": {},
   "outputs": [
    {
     "data": {
      "text/plain": [
       "<matplotlib.image.AxesImage at 0x104167550>"
      ]
     },
     "execution_count": 23,
     "metadata": {},
     "output_type": "execute_result"
    },
    {
     "data": {
      "image/png": "[encoded data removed]",
      "text/plain": [
       "<matplotlib.figure.Figure at 0x180d352550>"
      ]
     },
     "metadata": {},
     "output_type": "display_data"
    }
   ],
   "source": [
    ""
   ]
  },
  {
   "cell_type": "code",
   "execution_count": 26,
   "metadata": {
    "scrolled": false
   },
   "outputs": [
    {
     "name": "stdout",
     "output_type": "stream",
     "text": [
      "/home/ariel/.dipy/exp_bundles_and_maps/bundles_2_subjects/subj_1/bundles/bundles_cg.left.trk 3856\n",
      "Streamline 0 at index 0\n",
      "Streamline 100 at index 100\n",
      "Streamline 200 at index 200\n",
      "Streamline 300 at index 300\n",
      "Streamline 400 at index 400\n",
      "Streamline 500 at index 500\n",
      "Streamline 600 at index 600\n",
      "Streamline 700 at index 700\n",
      "Streamline 800 at index 800\n",
      "Streamline 900 at index 900\n",
      "Streamline 1000 at index 1000\n",
      "Streamline 1100 at index 1100\n",
      "Streamline 1200 at index 1200\n",
      "Streamline 1300 at index 1300\n",
      "Streamline 1400 at index 1400\n",
      "Streamline 1500 at index 1500\n",
      "Streamline 1600 at index 1600\n",
      "Streamline 1700 at index 1700\n",
      "Streamline 1800 at index 1800\n",
      "Streamline 1900 at index 1900\n",
      "Streamline 2000 at index 2000\n",
      "Streamline 2100 at index 2100\n",
      "Streamline 2200 at index 2200\n",
      "Streamline 2300 at index 2300\n",
      "Streamline 2400 at index 2400\n",
      "Streamline 2500 at index 2500\n",
      "Streamline 2600 at index 2600\n",
      "Streamline 2700 at index 2700\n",
      "Streamline 2800 at index 2800\n",
      "Streamline 2900 at index 2900\n",
      "Streamline 3000 at index 3000\n",
      "Streamline 3100 at index 3100\n",
      "Streamline 3200 at index 3200\n",
      "Streamline 3300 at index 3300\n",
      "Streamline 3400 at index 3400\n",
      "Streamline 3500 at index 3500\n",
      "Streamline 3600 at index 3600\n",
      "Streamline 3700 at index 3700\n",
      "Streamline 3800 at index 3800\n",
      "/home/ariel/.dipy/exp_bundles_and_maps/bundles_2_subjects/subj_1/bundles/bundles_slf1.left.trk 509\n",
      "Streamline 0 at index 3856\n",
      "Streamline 100 at index 3956\n",
      "Streamline 200 at index 4056\n",
      "Streamline 300 at index 4156\n",
      "Streamline 400 at index 4256\n",
      "Streamline 500 at index 4356\n",
      "/home/ariel/.dipy/exp_bundles_and_maps/bundles_2_subjects/subj_1/bundles/bundles_ifof.left.trk 543\n",
      "Streamline 0 at index 4365\n",
      "Streamline 100 at index 4465\n",
      "Streamline 200 at index 4565\n",
      "Streamline 300 at index 4665\n",
      "Streamline 400 at index 4765\n",
      "Streamline 500 at index 4865\n",
      "/home/ariel/.dipy/exp_bundles_and_maps/bundles_2_subjects/subj_1/bundles/bundles_slf2.left.trk 739\n",
      "Streamline 0 at index 4908\n",
      "Streamline 100 at index 5008\n",
      "Streamline 200 at index 5108\n",
      "Streamline 300 at index 5208\n",
      "Streamline 400 at index 5308\n",
      "Streamline 500 at index 5408\n",
      "Streamline 600 at index 5508\n",
      "Streamline 700 at index 5608\n",
      "/home/ariel/.dipy/exp_bundles_and_maps/bundles_2_subjects/subj_1/bundles/bundles_cc_1.trk 478\n",
      "Streamline 0 at index 5647\n",
      "Streamline 100 at index 5747\n",
      "Streamline 200 at index 5847\n",
      "Streamline 300 at index 5947\n",
      "Streamline 400 at index 6047\n",
      "/home/ariel/.dipy/exp_bundles_and_maps/bundles_2_subjects/subj_1/bundles/bundles_cc_2.trk 953\n",
      "Streamline 0 at index 6125\n",
      "Streamline 100 at index 6225\n",
      "Streamline 200 at index 6325\n",
      "Streamline 300 at index 6425\n",
      "Streamline 400 at index 6525\n",
      "Streamline 500 at index 6625\n",
      "Streamline 600 at index 6725\n",
      "Streamline 700 at index 6825\n",
      "Streamline 800 at index 6925\n",
      "Streamline 900 at index 7025\n",
      "/home/ariel/.dipy/exp_bundles_and_maps/bundles_2_subjects/subj_1/bundles/bundles_cst.left.trk 2101\n",
      "Streamline 0 at index 7078\n",
      "Streamline 100 at index 7178\n",
      "Streamline 200 at index 7278\n",
      "Streamline 300 at index 7378\n",
      "Streamline 400 at index 7478\n",
      "Streamline 500 at index 7578\n",
      "Streamline 600 at index 7678\n",
      "Streamline 700 at index 7778\n",
      "Streamline 800 at index 7878\n",
      "Streamline 900 at index 7978\n",
      "Streamline 1000 at index 8078\n",
      "Streamline 1100 at index 8178\n",
      "Streamline 1200 at index 8278\n",
      "Streamline 1300 at index 8378\n",
      "Streamline 1400 at index 8478\n",
      "Streamline 1500 at index 8578\n",
      "Streamline 1600 at index 8678\n",
      "Streamline 1700 at index 8778\n",
      "Streamline 1800 at index 8878\n",
      "Streamline 1900 at index 8978\n",
      "Streamline 2000 at index 9078\n",
      "Streamline 2100 at index 9178\n",
      "/home/ariel/.dipy/exp_bundles_and_maps/bundles_2_subjects/subj_1/bundles/bundles_af.left.trk 721\n",
      "Streamline 0 at index 9179\n",
      "Streamline 100 at index 9279\n",
      "Streamline 200 at index 9379\n",
      "Streamline 300 at index 9479\n",
      "Streamline 400 at index 9579\n",
      "Streamline 500 at index 9679\n",
      "Streamline 600 at index 9779\n",
      "Streamline 700 at index 9879\n",
      "/home/ariel/.dipy/exp_bundles_and_maps/bundles_2_subjects/subj_1/bundles/bundles_mdlf.left.trk 343\n",
      "Streamline 0 at index 9900\n",
      "Streamline 100 at index 10000\n",
      "Streamline 200 at index 10100\n",
      "Streamline 300 at index 10200\n",
      "/home/ariel/.dipy/exp_bundles_and_maps/bundles_2_subjects/subj_1/bundles/bundles_uf.right.trk 380\n",
      "Streamline 0 at index 10243\n",
      "Streamline 100 at index 10343\n",
      "Streamline 200 at index 10443\n",
      "Streamline 300 at index 10543\n",
      "/home/ariel/.dipy/exp_bundles_and_maps/bundles_2_subjects/subj_1/bundles/bundles_ilf.left.trk 1219\n",
      "Streamline 0 at index 10623\n",
      "Streamline 100 at index 10723\n",
      "Streamline 200 at index 10823\n",
      "Streamline 300 at index 10923\n",
      "Streamline 400 at index 11023\n",
      "Streamline 500 at index 11123\n",
      "Streamline 600 at index 11223\n",
      "Streamline 700 at index 11323\n",
      "Streamline 800 at index 11423\n",
      "Streamline 900 at index 11523\n",
      "Streamline 1000 at index 11623\n",
      "Streamline 1100 at index 11723\n",
      "Streamline 1200 at index 11823\n",
      "/home/ariel/.dipy/exp_bundles_and_maps/bundles_2_subjects/subj_1/bundles/bundles_slf_3.left.trk 256\n",
      "Streamline 0 at index 11842\n",
      "Streamline 100 at index 11942\n",
      "Streamline 200 at index 12042\n",
      "/home/ariel/.dipy/exp_bundles_and_maps/bundles_2_subjects/subj_1/bundles/bundles_cst.right.trk 2140\n",
      "Streamline 0 at index 12098\n",
      "Streamline 100 at index 12198\n",
      "Streamline 200 at index 12298\n",
      "Streamline 300 at index 12398\n",
      "Streamline 400 at index 12498\n",
      "Streamline 500 at index 12598\n",
      "Streamline 600 at index 12698\n",
      "Streamline 700 at index 12798\n",
      "Streamline 800 at index 12898\n",
      "Streamline 900 at index 12998\n",
      "Streamline 1000 at index 13098\n",
      "Streamline 1100 at index 13198\n",
      "Streamline 1200 at index 13298\n",
      "Streamline 1300 at index 13398\n",
      "Streamline 1400 at index 13498\n",
      "Streamline 1500 at index 13598\n",
      "Streamline 1600 at index 13698\n",
      "Streamline 1700 at index 13798\n",
      "Streamline 1800 at index 13898\n",
      "Streamline 1900 at index 13998\n",
      "Streamline 2000 at index 14098\n",
      "Streamline 2100 at index 14198\n",
      "/home/ariel/.dipy/exp_bundles_and_maps/bundles_2_subjects/subj_1/bundles/bundles_cc_7.trk 703\n",
      "Streamline 0 at index 14238\n",
      "Streamline 100 at index 14338\n",
      "Streamline 200 at index 14438\n",
      "Streamline 300 at index 14538\n",
      "Streamline 400 at index 14638\n",
      "Streamline 500 at index 14738\n",
      "Streamline 600 at index 14838\n",
      "Streamline 700 at index 14938\n",
      "/home/ariel/.dipy/exp_bundles_and_maps/bundles_2_subjects/subj_1/bundles/bundles_cg.right.trk 3885\n",
      "Streamline 0 at index 14941\n",
      "Streamline 100 at index 15041\n",
      "Streamline 200 at index 15141\n",
      "Streamline 300 at index 15241\n",
      "Streamline 400 at index 15341\n",
      "Streamline 500 at index 15441\n",
      "Streamline 600 at index 15541\n",
      "Streamline 700 at index 15641\n",
      "Streamline 800 at index 15741\n",
      "Streamline 900 at index 15841\n",
      "Streamline 1000 at index 15941\n",
      "Streamline 1100 at index 16041\n",
      "Streamline 1200 at index 16141\n",
      "Streamline 1300 at index 16241\n",
      "Streamline 1400 at index 16341\n",
      "Streamline 1500 at index 16441\n",
      "Streamline 1600 at index 16541\n",
      "Streamline 1700 at index 16641\n",
      "Streamline 1800 at index 16741\n",
      "Streamline 1900 at index 16841\n",
      "Streamline 2000 at index 16941\n",
      "Streamline 2100 at index 17041\n",
      "Streamline 2200 at index 17141\n",
      "Streamline 2300 at index 17241\n",
      "Streamline 2400 at index 17341\n",
      "Streamline 2500 at index 17441\n",
      "Streamline 2600 at index 17541\n",
      "Streamline 2700 at index 17641\n",
      "Streamline 2800 at index 17741\n",
      "Streamline 2900 at index 17841\n",
      "Streamline 3000 at index 17941\n",
      "Streamline 3100 at index 18041\n",
      "Streamline 3200 at index 18141\n",
      "Streamline 3300 at index 18241\n",
      "Streamline 3400 at index 18341\n",
      "Streamline 3500 at index 18441\n",
      "Streamline 3600 at index 18541\n",
      "Streamline 3700 at index 18641\n",
      "Streamline 3800 at index 18741\n",
      "/home/ariel/.dipy/exp_bundles_and_maps/bundles_2_subjects/subj_1/bundles/bundles_cc_6.trk 3620\n",
      "Streamline 0 at index 18826\n",
      "Streamline 100 at index 18926\n",
      "Streamline 200 at index 19026\n",
      "Streamline 300 at index 19126\n",
      "Streamline 400 at index 19226\n",
      "Streamline 500 at index 19326\n",
      "Streamline 600 at index 19426\n",
      "Streamline 700 at index 19526\n",
      "Streamline 800 at index 19626\n",
      "Streamline 900 at index 19726\n",
      "Streamline 1000 at index 19826\n",
      "Streamline 1100 at index 19926\n",
      "Streamline 1200 at index 20026\n",
      "Streamline 1300 at index 20126\n",
      "Streamline 1400 at index 20226\n",
      "Streamline 1500 at index 20326\n",
      "Streamline 1600 at index 20426\n",
      "Streamline 1700 at index 20526\n",
      "Streamline 1800 at index 20626\n",
      "Streamline 1900 at index 20726\n",
      "Streamline 2000 at index 20826\n",
      "Streamline 2100 at index 20926\n",
      "Streamline 2200 at index 21026\n",
      "Streamline 2300 at index 21126\n",
      "Streamline 2400 at index 21226\n",
      "Streamline 2500 at index 21326\n",
      "Streamline 2600 at index 21426\n",
      "Streamline 2700 at index 21526\n",
      "Streamline 2800 at index 21626\n",
      "Streamline 2900 at index 21726\n",
      "Streamline 3000 at index 21826\n",
      "Streamline 3100 at index 21926\n",
      "Streamline 3200 at index 22026\n",
      "Streamline 3300 at index 22126\n",
      "Streamline 3400 at index 22226\n",
      "Streamline 3500 at index 22326\n",
      "Streamline 3600 at index 22426\n",
      "/home/ariel/.dipy/exp_bundles_and_maps/bundles_2_subjects/subj_1/bundles/bundles_slf1.right.trk 291\n",
      "Streamline 0 at index 22446\n",
      "Streamline 100 at index 22546\n",
      "Streamline 200 at index 22646\n",
      "/home/ariel/.dipy/exp_bundles_and_maps/bundles_2_subjects/subj_1/bundles/bundles_cc_5.trk 520\n",
      "Streamline 0 at index 22737\n",
      "Streamline 100 at index 22837\n",
      "Streamline 200 at index 22937\n",
      "Streamline 300 at index 23037\n",
      "Streamline 400 at index 23137\n",
      "Streamline 500 at index 23237\n",
      "/home/ariel/.dipy/exp_bundles_and_maps/bundles_2_subjects/subj_1/bundles/bundles_slf2.right.trk 1441\n",
      "Streamline 0 at index 23257\n",
      "Streamline 100 at index 23357\n",
      "Streamline 200 at index 23457\n",
      "Streamline 300 at index 23557\n",
      "Streamline 400 at index 23657\n",
      "Streamline 500 at index 23757\n",
      "Streamline 600 at index 23857\n",
      "Streamline 700 at index 23957\n",
      "Streamline 800 at index 24057\n",
      "Streamline 900 at index 24157\n",
      "Streamline 1000 at index 24257\n",
      "Streamline 1100 at index 24357\n",
      "Streamline 1200 at index 24457\n",
      "Streamline 1300 at index 24557\n",
      "Streamline 1400 at index 24657\n",
      "/home/ariel/.dipy/exp_bundles_and_maps/bundles_2_subjects/subj_1/bundles/bundles_slf_3.right.trk 182\n",
      "Streamline 0 at index 24698\n",
      "Streamline 100 at index 24798\n",
      "/home/ariel/.dipy/exp_bundles_and_maps/bundles_2_subjects/subj_1/bundles/bundles_ilf.right.trk 355\n",
      "Streamline 0 at index 24880\n",
      "Streamline 100 at index 24980\n",
      "Streamline 200 at index 25080\n",
      "Streamline 300 at index 25180\n",
      "/home/ariel/.dipy/exp_bundles_and_maps/bundles_2_subjects/subj_1/bundles/bundles_mdlf.right.trk 161\n",
      "Streamline 0 at index 25235\n",
      "Streamline 100 at index 25335\n",
      "/home/ariel/.dipy/exp_bundles_and_maps/bundles_2_subjects/subj_1/bundles/bundles_uf.left.trk 305\n",
      "Streamline 0 at index 25396\n",
      "Streamline 100 at index 25496\n",
      "Streamline 200 at index 25596\n",
      "Streamline 300 at index 25696\n",
      "/home/ariel/.dipy/exp_bundles_and_maps/bundles_2_subjects/subj_1/bundles/bundles_cc_4.trk 1970\n",
      "Streamline 0 at index 25701\n",
      "Streamline 100 at index 25801\n",
      "Streamline 200 at index 25901\n",
      "Streamline 300 at index 26001\n",
      "Streamline 400 at index 26101\n",
      "Streamline 500 at index 26201\n",
      "Streamline 600 at index 26301\n",
      "Streamline 700 at index 26401\n",
      "Streamline 800 at index 26501\n",
      "Streamline 900 at index 26601\n",
      "Streamline 1000 at index 26701\n",
      "Streamline 1100 at index 26801\n",
      "Streamline 1200 at index 26901\n",
      "Streamline 1300 at index 27001\n",
      "Streamline 1400 at index 27101\n",
      "Streamline 1500 at index 27201\n",
      "Streamline 1600 at index 27301\n",
      "Streamline 1700 at index 27401\n",
      "Streamline 1800 at index 27501\n",
      "Streamline 1900 at index 27601\n",
      "/home/ariel/.dipy/exp_bundles_and_maps/bundles_2_subjects/subj_1/bundles/bundles_ifof.right.trk 1148\n",
      "Streamline 0 at index 27671\n",
      "Streamline 100 at index 27771\n",
      "Streamline 200 at index 27871\n",
      "Streamline 300 at index 27971\n",
      "Streamline 400 at index 28071\n",
      "Streamline 500 at index 28171\n",
      "Streamline 600 at index 28271\n",
      "Streamline 700 at index 28371\n",
      "Streamline 800 at index 28471\n",
      "Streamline 900 at index 28571\n",
      "Streamline 1000 at index 28671\n",
      "Streamline 1100 at index 28771\n",
      "/home/ariel/.dipy/exp_bundles_and_maps/bundles_2_subjects/subj_1/bundles/bundles_cc_3.trk 15244\n",
      "Streamline 0 at index 28819\n",
      "Streamline 100 at index 28919\n",
      "Streamline 200 at index 29019\n",
      "Streamline 300 at index 29119\n",
      "Streamline 400 at index 29219\n",
      "Streamline 500 at index 29319\n",
      "Streamline 600 at index 29419\n",
      "Streamline 700 at index 29519\n",
      "Streamline 800 at index 29619\n",
      "Streamline 900 at index 29719\n",
      "Streamline 1000 at index 29819\n",
      "Streamline 1100 at index 29919\n",
      "Streamline 1200 at index 30019\n",
      "Streamline 1300 at index 30119\n",
      "Streamline 1400 at index 30219\n",
      "Streamline 1500 at index 30319\n",
      "Streamline 1600 at index 30419\n",
      "Streamline 1700 at index 30519\n",
      "Streamline 1800 at index 30619\n",
      "Streamline 1900 at index 30719\n",
      "Streamline 2000 at index 30819\n",
      "Streamline 2100 at index 30919\n",
      "Streamline 2200 at index 31019\n",
      "Streamline 2300 at index 31119\n",
      "Streamline 2400 at index 31219\n",
      "Streamline 2500 at index 31319\n",
      "Streamline 2600 at index 31419\n",
      "Streamline 2700 at index 31519\n",
      "Streamline 2800 at index 31619\n",
      "Streamline 2900 at index 31719\n",
      "Streamline 3000 at index 31819\n",
      "Streamline 3100 at index 31919\n",
      "Streamline 3200 at index 32019\n",
      "Streamline 3300 at index 32119\n",
      "Streamline 3400 at index 32219\n",
      "Streamline 3500 at index 32319\n",
      "Streamline 3600 at index 32419\n",
      "Streamline 3700 at index 32519\n",
      "Streamline 3800 at index 32619\n",
      "Streamline 3900 at index 32719\n",
      "Streamline 4000 at index 32819\n",
      "Streamline 4100 at index 32919\n",
      "Streamline 4200 at index 33019\n",
      "Streamline 4300 at index 33119\n",
      "Streamline 4400 at index 33219\n",
      "Streamline 4500 at index 33319\n",
      "Streamline 4600 at index 33419\n",
      "Streamline 4700 at index 33519\n",
      "Streamline 4800 at index 33619\n",
      "Streamline 4900 at index 33719\n",
      "Streamline 5000 at index 33819\n",
      "Streamline 5100 at index 33919\n",
      "Streamline 5200 at index 34019\n",
      "Streamline 5300 at index 34119\n",
      "Streamline 5400 at index 34219\n",
      "Streamline 5500 at index 34319\n",
      "Streamline 5600 at index 34419\n",
      "Streamline 5700 at index 34519\n",
      "Streamline 5800 at index 34619\n",
      "Streamline 5900 at index 34719\n",
      "Streamline 6000 at index 34819\n",
      "Streamline 6100 at index 34919\n",
      "Streamline 6200 at index 35019\n",
      "Streamline 6300 at index 35119\n",
      "Streamline 6400 at index 35219\n",
      "Streamline 6500 at index 35319\n",
      "Streamline 6600 at index 35419\n",
      "Streamline 6700 at index 35519\n",
      "Streamline 6800 at index 35619\n",
      "Streamline 6900 at index 35719\n",
      "Streamline 7000 at index 35819\n",
      "Streamline 7100 at index 35919\n",
      "Streamline 7200 at index 36019\n",
      "Streamline 7300 at index 36119\n",
      "Streamline 7400 at index 36219\n",
      "Streamline 7500 at index 36319\n",
      "Streamline 7600 at index 36419\n",
      "Streamline 7700 at index 36519\n",
      "Streamline 7800 at index 36619\n",
      "Streamline 7900 at index 36719\n",
      "Streamline 8000 at index 36819\n",
      "Streamline 8100 at index 36919\n",
      "Streamline 8200 at index 37019\n",
      "Streamline 8300 at index 37119\n",
      "Streamline 8400 at index 37219\n",
      "Streamline 8500 at index 37319\n",
      "Streamline 8600 at index 37419\n",
      "Streamline 8700 at index 37519\n",
      "Streamline 8800 at index 37619\n",
      "Streamline 8900 at index 37719\n",
      "Streamline 9000 at index 37819\n",
      "Streamline 9100 at index 37919\n",
      "Streamline 9200 at index 38019\n",
      "Streamline 9300 at index 38119\n",
      "Streamline 9400 at index 38219\n",
      "Streamline 9500 at index 38319\n",
      "Streamline 9600 at index 38419\n",
      "Streamline 9700 at index 38519\n",
      "Streamline 9800 at index 38619\n",
      "Streamline 9900 at index 38719\n",
      "Streamline 10000 at index 38819\n",
      "Streamline 10100 at index 38919\n",
      "Streamline 10200 at index 39019\n",
      "Streamline 10300 at index 39119\n",
      "Streamline 10400 at index 39219\n",
      "Streamline 10500 at index 39319\n",
      "Streamline 10600 at index 39419\n",
      "Streamline 10700 at index 39519\n",
      "Streamline 10800 at index 39619\n",
      "Streamline 10900 at index 39719\n",
      "Streamline 11000 at index 39819\n",
      "Streamline 11100 at index 39919\n",
      "Streamline 11200 at index 40019\n",
      "Streamline 11300 at index 40119\n",
      "Streamline 11400 at index 40219\n",
      "Streamline 11500 at index 40319\n",
      "Streamline 11600 at index 40419\n",
      "Streamline 11700 at index 40519\n",
      "Streamline 11800 at index 40619\n",
      "Streamline 11900 at index 40719\n",
      "Streamline 12000 at index 40819\n",
      "Streamline 12100 at index 40919\n",
      "Streamline 12200 at index 41019\n",
      "Streamline 12300 at index 41119\n",
      "Streamline 12400 at index 41219\n",
      "Streamline 12500 at index 41319\n",
      "Streamline 12600 at index 41419\n",
      "Streamline 12700 at index 41519\n",
      "Streamline 12800 at index 41619\n",
      "Streamline 12900 at index 41719\n",
      "Streamline 13000 at index 41819\n",
      "Streamline 13100 at index 41919\n",
      "Streamline 13200 at index 42019\n",
      "Streamline 13300 at index 42119\n",
      "Streamline 13400 at index 42219\n",
      "Streamline 13500 at index 42319\n",
      "Streamline 13600 at index 42419\n",
      "Streamline 13700 at index 42519\n",
      "Streamline 13800 at index 42619\n",
      "Streamline 13900 at index 42719\n",
      "Streamline 14000 at index 42819\n",
      "Streamline 14100 at index 42919\n",
      "Streamline 14200 at index 43019\n",
      "Streamline 14300 at index 43119\n",
      "Streamline 14400 at index 43219\n",
      "Streamline 14500 at index 43319\n",
      "Streamline 14600 at index 43419\n",
      "Streamline 14700 at index 43519\n",
      "Streamline 14800 at index 43619\n",
      "Streamline 14900 at index 43719\n",
      "Streamline 15000 at index 43819\n",
      "Streamline 15100 at index 43919\n",
      "Streamline 15200 at index 44019\n",
      "/home/ariel/.dipy/exp_bundles_and_maps/bundles_2_subjects/subj_1/bundles/bundles_af.right.trk 2093\n",
      "Streamline 0 at index 44063\n",
      "Streamline 100 at index 44163\n",
      "Streamline 200 at index 44263\n",
      "Streamline 300 at index 44363\n",
      "Streamline 400 at index 44463\n",
      "Streamline 500 at index 44563\n",
      "Streamline 600 at index 44663\n",
      "Streamline 700 at index 44763\n",
      "Streamline 800 at index 44863\n",
      "Streamline 900 at index 44963\n",
      "Streamline 1000 at index 45063\n",
      "Streamline 1100 at index 45163\n",
      "Streamline 1200 at index 45263\n",
      "Streamline 1300 at index 45363\n",
      "Streamline 1400 at index 45463\n",
      "Streamline 1500 at index 45563\n",
      "Streamline 1600 at index 45663\n",
      "Streamline 1700 at index 45763\n",
      "Streamline 1800 at index 45863\n",
      "Streamline 1900 at index 45963\n",
      "Streamline 2000 at index 46063\n"
     ]
    }
   ],
   "source": [
    "# fig = plt.figure()\n",
    "# ax = fig.gca(projection='3d')\n",
    "ii = 0\n",
    "for b_idx, bundle in enumerate(bundle_fnames):\n",
    "    tgram = nib.streamlines.load(op.join(DATA_SUB1, 'bundles', bundle))\n",
    "    print(bundle, len(tgram.streamlines))\n",
    "    sl_sum += len(tgram.streamlines)\n",
    "    for sl_idx, sl in enumerate(list(dtu.move_streamlines(tgram.streamlines, np.linalg.inv(tgram.affine)))):\n",
    "            if not np.mod(sl_idx, 100):\n",
    "                print(\"Streamline {0} at index {1}\".format(sl_idx, ii))\n",
    "#         sl_npy_fname = op.join('/data/bundles/npy/','_'.join(op.split(bundle)[-1].split('.')[:2]) + '{0:05d}.npy'.format(sl_idx + 1))\n",
    "#         if not op.exists(sl_npy_fname):\n",
    "            vol = np.zeros(t1_warped_img.shape + (1,), dtype=bool)\n",
    "            sl = np.round(sl).astype(int).T\n",
    "            vol[sl[0], sl[1], sl[2]] = 1        \n",
    "            bundle_arr[ii] = vol\n",
    "            one_hot = np.zeros(len(bundle_fnames), dtype=bool)\n",
    "            one_hot[b_idx] = 1\n",
    "            one_hot_arr[ii] = one_hot\n",
    "            ii += 1\n",
    "#             np.save(sl_npy_fname, vol)"
   ]
  },
  {
   "cell_type": "code",
   "execution_count": null,
   "metadata": {
    "collapsed": true
   },
   "outputs": [],
   "source": [
    ""
   ]
  }
 ],
 "metadata": {
  "anaconda-cloud": {},
  "kernelspec": {
   "display_name": "Python [conda root]",
   "language": "python",
   "name": "conda-root-py"
  },
  "language_info": {
   "codemirror_mode": {
    "name": "ipython",
    "version": 2.0
   },
   "file_extension": ".py",
   "mimetype": "text/x-python",
   "name": "python",
   "nbconvert_exporter": "python",
   "pygments_lexer": "ipython2",
   "version": "2.7.13"
  }
 },
 "nbformat": 4,
 "nbformat_minor": 0
}