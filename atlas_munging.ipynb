{
 "cells": [
  {
   "cell_type": "code",
   "execution_count": 1,
   "metadata": {
    "collapsed": true
   },
   "outputs": [],
   "source": [
    "import matplotlib as mpl\n",
    "from mpl_toolkits.mplot3d import Axes3D\n",
    "import numpy as np\n",
    "import matplotlib.pyplot as plt\n",
    "import dipy.tracking.utils as dtu\n",
    "import pandas as pd\n",
    "import nibabel as nib\n",
    "%matplotlib inline"
   ]
  },
  {
   "cell_type": "code",
   "execution_count": 2,
   "metadata": {},
   "outputs": [
    {
     "name": "stdout",
     "output_type": "stream",
     "text": [
      "\u001b[31mCTT_L.trk.gz\u001b[m\u001b[m* \u001b[31mDLF_R.trk.gz\u001b[m\u001b[m* \u001b[31mMLF_L.trk.gz\u001b[m\u001b[m* \u001b[31mML_R.trk.gz\u001b[m\u001b[m*  \u001b[31mSTT_L.trk.gz\u001b[m\u001b[m*\r\n",
      "\u001b[31mCTT_R.trk.gz\u001b[m\u001b[m* \u001b[31mLL_L.trk.gz\u001b[m\u001b[m*  \u001b[31mMLF_R.trk.gz\u001b[m\u001b[m* \u001b[31mRST_L.trk.gz\u001b[m\u001b[m* \u001b[31mSTT_R.trk.gz\u001b[m\u001b[m*\r\n",
      "\u001b[31mDLF_L.trk.gz\u001b[m\u001b[m* \u001b[31mLL_R.trk.gz\u001b[m\u001b[m*  \u001b[31mML_L.trk.gz\u001b[m\u001b[m*  \u001b[31mRST_R.trk.gz\u001b[m\u001b[m*\r\n"
     ]
    }
   ],
   "source": [
    "ls /Users/aarya/Atlas/tracks/brainstem"
   ]
  },
  {
   "cell_type": "code",
   "execution_count": 13,
   "metadata": {},
   "outputs": [
    {
     "data": {
      "text/plain": [
       "'AF_L.trk'"
      ]
     },
     "execution_count": 13,
     "metadata": {},
     "output_type": "execute_result"
    }
   ],
   "source": [
    "s = '/Users/aarya/Atlas/tracks/association/AF_L.trk'\n",
    "s.split('/')[-1]"
   ]
  },
  {
   "cell_type": "code",
   "execution_count": 3,
   "metadata": {
    "collapsed": true
   },
   "outputs": [],
   "source": [
    "DATA_PATH = \"/Users/aarya/Atlas/tracks/brainstem\"\n",
    "\n",
    "import os\n",
    "import os.path as op\n",
    "from glob import glob"
   ]
  },
  {
   "cell_type": "code",
   "execution_count": 19,
   "metadata": {},
   "outputs": [
    {
     "data": {
      "text/plain": [
       "15"
      ]
     },
     "execution_count": 19,
     "metadata": {},
     "output_type": "execute_result"
    }
   ],
   "source": [
    "labels = [f for f in os.listdir(DATA_PATH) if not f.startswith('.')]\n",
    "len(labels)"
   ]
  },
  {
   "cell_type": "code",
   "execution_count": 5,
   "metadata": {},
   "outputs": [
    {
     "data": {
      "text/plain": [
       "'/Users/aarya/Atlas/tracks/brainstem/CTT_L.trk'"
      ]
     },
     "execution_count": 5,
     "metadata": {},
     "output_type": "execute_result"
    }
   ],
   "source": [
    "bundle_fnames = glob(op.join(DATA_PATH, '*.trk'))\n",
    "bundle_fnames[0]"
   ]
  },
  {
   "cell_type": "code",
   "execution_count": 7,
   "metadata": {
    "collapsed": true
   },
   "outputs": [],
   "source": [
    "t1_shape = (256, 256, 150)"
   ]
  },
  {
   "cell_type": "code",
   "execution_count": 8,
   "metadata": {},
   "outputs": [
    {
     "name": "stdout",
     "output_type": "stream",
     "text": [
      "('/Users/aarya/Atlas/tracks/brainstem/CTT_L.trk', 15)\n",
      "('/Users/aarya/Atlas/tracks/brainstem/CTT_R.trk', 21)\n",
      "('/Users/aarya/Atlas/tracks/brainstem/DLF_L.trk', 3)\n",
      "('/Users/aarya/Atlas/tracks/brainstem/DLF_R.trk', 4)\n",
      "('/Users/aarya/Atlas/tracks/brainstem/LL_L.trk', 76)\n",
      "('/Users/aarya/Atlas/tracks/brainstem/LL_R.trk', 44)\n",
      "('/Users/aarya/Atlas/tracks/brainstem/ML_L.trk', 103)\n",
      "('/Users/aarya/Atlas/tracks/brainstem/ML_R.trk', 124)\n",
      "('/Users/aarya/Atlas/tracks/brainstem/MLF_L.trk', 10)\n",
      "('/Users/aarya/Atlas/tracks/brainstem/MLF_R.trk', 11)\n",
      "('/Users/aarya/Atlas/tracks/brainstem/RST_L.trk', 5)\n",
      "('/Users/aarya/Atlas/tracks/brainstem/RST_R.trk', 6)\n",
      "('/Users/aarya/Atlas/tracks/brainstem/STT_L.trk', 195)\n",
      "('/Users/aarya/Atlas/tracks/brainstem/STT_R.trk', 199)\n"
     ]
    },
    {
     "data": {
      "text/plain": [
       "816"
      ]
     },
     "execution_count": 8,
     "metadata": {},
     "output_type": "execute_result"
    }
   ],
   "source": [
    "sl_sum = 0\n",
    "for b_idx, bundle in enumerate(bundle_fnames):\n",
    "    tgram = nib.streamlines.load(op.join(DATA_PATH, bundle))\n",
    "    print(bundle, len(tgram.streamlines))\n",
    "    sl_sum += len(tgram.streamlines)\n",
    "sl_sum"
   ]
  },
  {
   "cell_type": "code",
   "execution_count": 10,
   "metadata": {},
   "outputs": [
    {
     "data": {
      "text/plain": [
       "'AF_L'"
      ]
     },
     "execution_count": 10,
     "metadata": {},
     "output_type": "execute_result"
    }
   ],
   "source": [
    "def get_bname(f):\n",
    "    return f.split('/')[-1].split('.')[0]\n",
    "get_bname('/Users/aarya/Atlas/tracks/association/AF_L.trk')"
   ]
  },
  {
   "cell_type": "code",
   "execution_count": 14,
   "metadata": {},
   "outputs": [
    {
     "name": "stdout",
     "output_type": "stream",
     "text": [
      "('/Users/aarya/Atlas/tracks/brainstem/CTT_L.trk', 15)\n",
      "Streamline 0 at index 0 of Bundle CTT_L saved at path /Users/aarya/Atlas/tracks/brainstem/slines/CTT_L_0\n",
      "('/Users/aarya/Atlas/tracks/brainstem/CTT_R.trk', 21)\n",
      "Streamline 0 at index 15 of Bundle CTT_R saved at path /Users/aarya/Atlas/tracks/brainstem/slines/CTT_R_0\n",
      "('/Users/aarya/Atlas/tracks/brainstem/DLF_L.trk', 3)\n",
      "Streamline 0 at index 36 of Bundle DLF_L saved at path /Users/aarya/Atlas/tracks/brainstem/slines/DLF_L_0\n",
      "('/Users/aarya/Atlas/tracks/brainstem/DLF_R.trk', 4)\n",
      "Streamline 0 at index 39 of Bundle DLF_R saved at path /Users/aarya/Atlas/tracks/brainstem/slines/DLF_R_0\n",
      "('/Users/aarya/Atlas/tracks/brainstem/LL_L.trk', 76)\n",
      "Streamline 0 at index 43 of Bundle LL_L saved at path /Users/aarya/Atlas/tracks/brainstem/slines/LL_L_0\n",
      "('/Users/aarya/Atlas/tracks/brainstem/LL_R.trk', 44)\n",
      "Streamline 0 at index 119 of Bundle LL_R saved at path /Users/aarya/Atlas/tracks/brainstem/slines/LL_R_0\n",
      "('/Users/aarya/Atlas/tracks/brainstem/ML_L.trk', 103)\n",
      "Streamline 0 at index 163 of Bundle ML_L saved at path /Users/aarya/Atlas/tracks/brainstem/slines/ML_L_0\n",
      "Streamline 100 at index 263 of Bundle ML_L saved at path /Users/aarya/Atlas/tracks/brainstem/slines/ML_L_100\n",
      "('/Users/aarya/Atlas/tracks/brainstem/ML_R.trk', 124)\n",
      "Streamline 0 at index 266 of Bundle ML_R saved at path /Users/aarya/Atlas/tracks/brainstem/slines/ML_R_0\n",
      "Streamline 100 at index 366 of Bundle ML_R saved at path /Users/aarya/Atlas/tracks/brainstem/slines/ML_R_100\n",
      "('/Users/aarya/Atlas/tracks/brainstem/MLF_L.trk', 10)\n",
      "Streamline 0 at index 390 of Bundle MLF_L saved at path /Users/aarya/Atlas/tracks/brainstem/slines/MLF_L_0\n",
      "('/Users/aarya/Atlas/tracks/brainstem/MLF_R.trk', 11)\n",
      "Streamline 0 at index 400 of Bundle MLF_R saved at path /Users/aarya/Atlas/tracks/brainstem/slines/MLF_R_0\n",
      "('/Users/aarya/Atlas/tracks/brainstem/RST_L.trk', 5)\n",
      "Streamline 0 at index 411 of Bundle RST_L saved at path /Users/aarya/Atlas/tracks/brainstem/slines/RST_L_0\n",
      "('/Users/aarya/Atlas/tracks/brainstem/RST_R.trk', 6)\n",
      "Streamline 0 at index 416 of Bundle RST_R saved at path /Users/aarya/Atlas/tracks/brainstem/slines/RST_R_0\n",
      "('/Users/aarya/Atlas/tracks/brainstem/STT_L.trk', 195)\n",
      "Streamline 0 at index 422 of Bundle STT_L saved at path /Users/aarya/Atlas/tracks/brainstem/slines/STT_L_0\n",
      "Streamline 100 at index 522 of Bundle STT_L saved at path /Users/aarya/Atlas/tracks/brainstem/slines/STT_L_100\n",
      "('/Users/aarya/Atlas/tracks/brainstem/STT_R.trk', 199)\n",
      "Streamline 0 at index 617 of Bundle STT_R saved at path /Users/aarya/Atlas/tracks/brainstem/slines/STT_R_0\n",
      "Streamline 100 at index 717 of Bundle STT_R saved at path /Users/aarya/Atlas/tracks/brainstem/slines/STT_R_100\n"
     ]
    }
   ],
   "source": [
    "ii = 0\n",
    "one_hot_arr = [0] * sl_sum\n",
    "newpath = DATA_PATH+'/slines' \n",
    "if not os.path.exists(newpath):\n",
    "    os.makedirs(newpath)\n",
    "for b_idx, bundle in enumerate(bundle_fnames):\n",
    "    tgram = nib.streamlines.load(op.join(DATA_PATH, bundle))\n",
    "    print(bundle, len(tgram.streamlines))\n",
    "    for sl_idx, sl in enumerate(list(dtu.move_streamlines(tgram.streamlines, np.linalg.inv(tgram.affine)))):\n",
    "            bname = get_bname(bundle)\n",
    "            savepath = newpath+\"/\"+bname+'-'+str(sl_idx)\n",
    "            if not np.mod(sl_idx, 100):\n",
    "                #print(\"Streamline {0} at index {1}\".format(sl_idx, ii))\n",
    "                print(\"Streamline {0} at index {1} of Bundle {2} saved at path {3}\".format(sl_idx, ii, bname, savepath))\n",
    "            vol = np.zeros(t1_shape + (1,), dtype=bool)\n",
    "            sl = np.round(sl).astype(int).T\n",
    "            vol[sl[0], sl[1], sl[2]] = 1\n",
    "            a1 = np.max(vol, 0).squeeze()\n",
    "            for x in range(1,3):\n",
    "                a1 = np.concatenate((a1, np.max(vol, x).squeeze()), axis=1)\n",
    "            np.save(savepath, a1)\n",
    "#            bundle_arr[bundle] = vol\n",
    "#             one_hot = np.zeros(len(bundle_fnames), dtype=bool)\n",
    "#             one_hot[b_idx] = 1\n",
    "#             one_hot_arr[ii] = one_hot\n",
    "            ii += 1"
   ]
  },
  {
   "cell_type": "code",
   "execution_count": 15,
   "metadata": {
    "collapsed": true
   },
   "outputs": [],
   "source": [
    "def get_label(path):\n",
    "    x = path.split('/')[-1].split('_')[:2]\n",
    "    return '_'.join(x)"
   ]
  },
  {
   "cell_type": "code",
   "execution_count": 16,
   "metadata": {},
   "outputs": [
    {
     "data": {
      "text/html": [
       "<div>\n",
       "<table border=\"1\" class=\"dataframe\">\n",
       "  <thead>\n",
       "    <tr style=\"text-align: right;\">\n",
       "      <th></th>\n",
       "      <th>labels</th>\n",
       "      <th>paths</th>\n",
       "    </tr>\n",
       "  </thead>\n",
       "  <tbody>\n",
       "    <tr>\n",
       "      <th>0</th>\n",
       "      <td>CTT_L</td>\n",
       "      <td>/Users/aarya/Atlas/tracks/brainstem/slines/CTT...</td>\n",
       "    </tr>\n",
       "    <tr>\n",
       "      <th>1</th>\n",
       "      <td>CTT_L</td>\n",
       "      <td>/Users/aarya/Atlas/tracks/brainstem/slines/CTT...</td>\n",
       "    </tr>\n",
       "    <tr>\n",
       "      <th>2</th>\n",
       "      <td>CTT_L</td>\n",
       "      <td>/Users/aarya/Atlas/tracks/brainstem/slines/CTT...</td>\n",
       "    </tr>\n",
       "    <tr>\n",
       "      <th>3</th>\n",
       "      <td>CTT_L</td>\n",
       "      <td>/Users/aarya/Atlas/tracks/brainstem/slines/CTT...</td>\n",
       "    </tr>\n",
       "    <tr>\n",
       "      <th>4</th>\n",
       "      <td>CTT_L</td>\n",
       "      <td>/Users/aarya/Atlas/tracks/brainstem/slines/CTT...</td>\n",
       "    </tr>\n",
       "  </tbody>\n",
       "</table>\n",
       "</div>"
      ],
      "text/plain": [
       "  labels                                              paths\n",
       "0  CTT_L  /Users/aarya/Atlas/tracks/brainstem/slines/CTT...\n",
       "1  CTT_L  /Users/aarya/Atlas/tracks/brainstem/slines/CTT...\n",
       "2  CTT_L  /Users/aarya/Atlas/tracks/brainstem/slines/CTT...\n",
       "3  CTT_L  /Users/aarya/Atlas/tracks/brainstem/slines/CTT...\n",
       "4  CTT_L  /Users/aarya/Atlas/tracks/brainstem/slines/CTT..."
      ]
     },
     "execution_count": 16,
     "metadata": {},
     "output_type": "execute_result"
    }
   ],
   "source": [
    "def get_dataframe(directory):\n",
    "    paths = [os.path.join(directory, f) for f in os.listdir(directory) if not f.startswith('.')]\n",
    "    labels = [get_label(path) for path in paths if not path.startswith('.')]\n",
    "    return pd.DataFrame({'paths': paths, 'labels': labels})\n",
    "d = get_dataframe(newpath)\n",
    "d.head()"
   ]
  },
  {
   "cell_type": "code",
   "execution_count": 18,
   "metadata": {},
   "outputs": [
    {
     "data": {
      "text/plain": [
       "(256, 556)"
      ]
     },
     "execution_count": 18,
     "metadata": {},
     "output_type": "execute_result"
    },
    {
     "data": {
      "image/png": "[encoded data removed]",
      "text/plain": [
       "<matplotlib.figure.Figure at 0x11273c550>"
      ]
     },
     "metadata": {},
     "output_type": "display_data"
    }
   ],
   "source": [
    "foo = np.load(d['paths'][0])\n",
    "plt.matshow(foo)\n",
    "foo.shape"
   ]
  },
  {
   "cell_type": "code",
   "execution_count": null,
   "metadata": {
    "collapsed": true
   },
   "outputs": [],
   "source": []
  }
 ],
 "metadata": {
  "anaconda-cloud": {},
  "kernelspec": {
   "display_name": "Python [conda root]",
   "language": "python",
   "name": "conda-root-py"
  },
  "language_info": {
   "codemirror_mode": {
    "name": "ipython",
    "version": 2
   },
   "file_extension": ".py",
   "mimetype": "text/x-python",
   "name": "python",
   "nbconvert_exporter": "python",
   "pygments_lexer": "ipython2",
   "version": "2.7.13"
  }
 },
 "nbformat": 4,
 "nbformat_minor": 1
}
